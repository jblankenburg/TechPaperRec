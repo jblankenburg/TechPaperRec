{
 "cells": [
  {
   "cell_type": "markdown",
   "metadata": {},
   "source": [
    "# Define necessary functions"
   ]
  },
  {
   "cell_type": "code",
   "execution_count": 1,
   "metadata": {
    "collapsed": true
   },
   "outputs": [],
   "source": [
    "# Define function for getting list of all files to parse\n",
    "def getFiles(base_path, files):\n",
    "    for (dirpath, dirnames, filenames) in os.walk(base_path):\n",
    "        for f in filenames:\n",
    "            if f.endswith(\".tex\"):\n",
    "                temp = os.path.join(dirpath, f)\n",
    "                files.append(temp)\n",
    "                \n",
    "    return files"
   ]
  },
  {
   "cell_type": "code",
   "execution_count": 2,
   "metadata": {
    "collapsed": true
   },
   "outputs": [],
   "source": [
    "#  Define function for getting content from ONE file\n",
    "def getContent(file):\n",
    "    f = open(file, \"r\")\n",
    "    content = f.readlines()\n",
    "    content = [x.replace('\\n', ' ') for x in content]\n",
    "    return content"
   ]
  },
  {
   "cell_type": "code",
   "execution_count": 3,
   "metadata": {},
   "outputs": [],
   "source": [
    "# Define function for getting the \\section names from file\n",
    "def getSections(content):\n",
    "    names = {}\n",
    "    for line in content:\n",
    "        temp = []\n",
    "        \n",
    "        # find sections\n",
    "        val = line.find('\\section')\n",
    "        if val != -1:\n",
    "            flag = 0\n",
    "            # extract section names\n",
    "            for char in line:\n",
    "                if char == '}':\n",
    "                    flag = 0\n",
    "                if flag == 1:\n",
    "                    temp.append(char)\n",
    "                if char == '{':\n",
    "                    flag = 1\n",
    "                name = ''.join(temp)\n",
    "                \n",
    "            # save names of the sections\n",
    "            names[name] = ''\n",
    "            \n",
    "    return names\n",
    "                    "
   ]
  },
  {
   "cell_type": "code",
   "execution_count": 4,
   "metadata": {
    "collapsed": true
   },
   "outputs": [],
   "source": [
    "#  Define function to loop through section names and fill in sections\n",
    "def fillSections(names, content):\n",
    "    for name in names:\n",
    "        flag = 0\n",
    "        temp = []\n",
    "        for line in content:\n",
    "            # fill in sections\n",
    "            val = line.find(name)\n",
    "            if val != -1:\n",
    "                flag = 1\n",
    "                val2 = line.find('}')\n",
    "                temp.append(line[(val2+1):])\n",
    "                continue\n",
    "            val3 = line.find('\\section')\n",
    "            if val3 != -1:\n",
    "                flag = 0\n",
    "            if flag == 1:\n",
    "                if line != '':\n",
    "                    if line[0] != '%':\n",
    "                        temp.append(line)\n",
    "        names[name] = ''.join(temp)\n",
    "        \n",
    "    return names"
   ]
  },
  {
   "cell_type": "code",
   "execution_count": 5,
   "metadata": {},
   "outputs": [],
   "source": [
    "# Define function to fill in abstract\n",
    "def fillAbstract(names, content):\n",
    "    flag = 0\n",
    "    temp = []\n",
    "    for line in content:\n",
    "        val = line.find('n{abstract}')\n",
    "        if val != -1:\n",
    "            flag = 1\n",
    "            val2 = line.find('}')\n",
    "            temp.append(line[(val2+1):])\n",
    "            continue\n",
    "        val3 = line.find('d{abstract}')\n",
    "        if val3 != -1:\n",
    "            flag = 0\n",
    "        if flag == 1:\n",
    "            if line != '':\n",
    "                if line[0] != '%':\n",
    "                    temp.append(line)\n",
    "    names['abstract'] = ''.join(temp)\n",
    "    return names"
   ]
  },
  {
   "cell_type": "code",
   "execution_count": 6,
   "metadata": {
    "collapsed": true
   },
   "outputs": [],
   "source": [
    "# Define function to fill in title:\n",
    "def fillTitle(names, content):\n",
    "    flag = 0\n",
    "    temp = []\n",
    "    for line in content:\n",
    "        val = line.find('title{')\n",
    "        if val != -1:\n",
    "            flag = 1\n",
    "            val2 = line.find('}')\n",
    "            temp.append(line[(val+6):(val2+1)])\n",
    "    names['title'] = ''.join(temp)\n",
    "    return names"
   ]
  },
  {
   "cell_type": "code",
   "execution_count": 7,
   "metadata": {
    "collapsed": true
   },
   "outputs": [],
   "source": [
    "def fillNamesDict(names, content):\n",
    "    names = fillSections(names, content)\n",
    "    names = fillAbstract(names, content)\n",
    "    names = fillTitle(names, content)\n",
    "    return names"
   ]
  },
  {
   "cell_type": "code",
   "execution_count": 8,
   "metadata": {
    "collapsed": true
   },
   "outputs": [],
   "source": [
    "def printNamesDict(names):\n",
    "    for name in names:\n",
    "        print name\n",
    "        print names[name]\n",
    "        print '\\n----------------------------------------------\\n'"
   ]
  },
  {
   "cell_type": "markdown",
   "metadata": {},
   "source": [
    "# Define test script to extract sections and content"
   ]
  },
  {
   "cell_type": "code",
   "execution_count": 9,
   "metadata": {
    "scrolled": true
   },
   "outputs": [],
   "source": [
    "# # Test script:\n",
    "# import os\n",
    "\n",
    "# # define stuffs\n",
    "# base_path = \"/home/janelle/Documents/classes/complexNetworks/paper/texfiles\"\n",
    "# files = []\n",
    "\n",
    "# # test getting all files to parse\n",
    "# files = getFiles(base_path, files)\n",
    "# print files\n",
    "\n",
    "# # ----------------\n",
    "# # test stuff on one file:\n",
    "# tfile = files[0]\n",
    "# print tfile\n",
    "\n",
    "# # get content\n",
    "# content = getContent(tfile)\n",
    "\n",
    "# # get sections\n",
    "# names = getSections(content)\n",
    "\n",
    "# # fill names dict with content from sections + abstract + title\n",
    "# names = fillNamesDict(names, content)\n",
    "\n",
    "# # print names with their content\n",
    "# printNamesDict(names)"
   ]
  },
  {
   "cell_type": "markdown",
   "metadata": {},
   "source": [
    "# Now define functions for conversion from sections to categories!!!"
   ]
  },
  {
   "cell_type": "code",
   "execution_count": 10,
   "metadata": {},
   "outputs": [],
   "source": [
    "def convertNamesToCats(names, cats):\n",
    "\n",
    "    # --------------------------------------------\n",
    "    # TODO: The issue here is that order is not preserved, so if multiple things go in one category, the ordering is wrong so how much will this matter?!!?!?\n",
    "    # --------------------------------------------\n",
    "\n",
    "\n",
    "    # define the synonyms for categorization\n",
    "    syn_intro = ['introduction']\n",
    "    syn_relWork = ['related work', 'background']\n",
    "    syn_meth = ['methodology', ] # TODO: Fix this, this should be all others\n",
    "    syn_disc = ['discussion', 'results', 'experiment', 'implementation'] # TODOL What if dicussion and conclusion!?!?\n",
    "    syn_conc = ['conclusion', 'future work', 'limitations']\n",
    "    syn_ignore = ['acknowledgments']\n",
    "\n",
    "    # loop through names and put into correct cat:\n",
    "    for name in names:\n",
    "\n",
    "        # check title\n",
    "        if name == 'title':\n",
    "            cats['title'] = cats['title'].join(names[name])\n",
    "\n",
    "        # check abstract\n",
    "        elif name == 'abstract':\n",
    "            cats['abstract'] = cats['abstract'].join(names[name])\n",
    "\n",
    "        # check other sections:\n",
    "        else:\n",
    "\n",
    "            # set flag to see if name is found in anything but method syns\n",
    "            found = 0\n",
    "\n",
    "            # check intro\n",
    "            (cats, found) = checkSyn(syn_intro, found, name, 'introduction', cats, names)\n",
    "\n",
    "            # check related work\n",
    "            (cats, found) = checkSyn(syn_relWork, found, name, 'related work', cats, names)\n",
    "\n",
    "            # check discussion \n",
    "            (cats, found) = checkSyn(syn_disc, found, name, 'discussion', cats, names)\n",
    "\n",
    "            # check conclusion\n",
    "            (cats, found) = checkSyn(syn_conc, found, name, 'conclusion', cats, names)\n",
    "\n",
    "            # if not found, then put into methodology\n",
    "            if found == 0:\n",
    "                \n",
    "                # make sure its not in ignore list\n",
    "                ignore = 0\n",
    "                for syn in syn_ignore:\n",
    "                    name_lower = name.lower()\n",
    "                    val = name_lower.find(syn)\n",
    "                    if val != -1:\n",
    "                        ignore = ignore | 1\n",
    "                        print \"\\n--------\\nSection {} was ignored!\\n-------\\n\".format(name)\n",
    "                \n",
    "                # if not in ignore list, then add to methodology\n",
    "                if ignore == 0:\n",
    "                    cats['methodology'] = cats['methodology'].join(names[name])   \n",
    "#                     print name\n",
    "\n",
    "    return cats       \n",
    "        "
   ]
  },
  {
   "cell_type": "code",
   "execution_count": 11,
   "metadata": {},
   "outputs": [],
   "source": [
    "def checkSyn(syn_dict, found, name_str, cat_str, cats, names):\n",
    "    \n",
    "    # check syns\n",
    "    for syn in syn_dict:\n",
    "        name_str_lower = name_str.lower()\n",
    "        val = name_str_lower.find(syn)\n",
    "        if val == -1:\n",
    "            found = found | 0\n",
    "        else:\n",
    "            cats[cat_str] = cats[cat_str].join(names[name_str])   \n",
    "            print \"\\n--------\\nSection {} was added to Category {}!\\n-------\\n\".format(name_str, cat_str)\n",
    "            found = found | 1\n",
    "            \n",
    "    return (cats, found)\n"
   ]
  },
  {
   "cell_type": "code",
   "execution_count": 12,
   "metadata": {
    "collapsed": true
   },
   "outputs": [],
   "source": [
    "def printCats(cats):\n",
    "    for cat in cats:\n",
    "        print cat\n",
    "        print cats[cat]\n",
    "        print \"\\n---------------------------------------------------\\n\""
   ]
  },
  {
   "cell_type": "markdown",
   "metadata": {},
   "source": [
    "# Now to convert from sections into section categories!!!!"
   ]
  },
  {
   "cell_type": "code",
   "execution_count": 13,
   "metadata": {},
   "outputs": [],
   "source": [
    "# #  TEST script for converting from sections into categories\n",
    "\n",
    "\n",
    "\n",
    "# # define the categories dict\n",
    "# cats = {'title':'','abstract':'','introduction':'','related work':'','methodology':'','discussion':'','conclusion':''}\n",
    "\n",
    "# # convert from names to cats\n",
    "# cats = convertNamesToCats(names, cats)\n",
    "\n",
    "# # print cats\n",
    "# # printCats(cats)\n"
   ]
  },
  {
   "cell_type": "code",
   "execution_count": null,
   "metadata": {
    "collapsed": true
   },
   "outputs": [],
   "source": []
  },
  {
   "cell_type": "markdown",
   "metadata": {},
   "source": [
    "# Now lets define a full script that runs the parsing on ALL files!"
   ]
  },
  {
   "cell_type": "code",
   "execution_count": 14,
   "metadata": {},
   "outputs": [
    {
     "name": "stdout",
     "output_type": "stream",
     "text": [
      "/home/janelle/Documents/classes/complexNetworks/paper/texfiles/CV/tex/150601732.tex\n",
      "\n",
      "--------\n",
      "Section Introduction was added to Category introduction!\n",
      "-------\n",
      "\n",
      "\n",
      "--------\n",
      "Section Related Work was added to Category related work!\n",
      "-------\n",
      "\n",
      "\n",
      "--------\n",
      "Section Experiments was added to Category discussion!\n",
      "-------\n",
      "\n",
      "\n",
      "--------\n",
      "Section Acknowledgments was ignored!\n",
      "-------\n",
      "\n",
      "\n",
      "--------\n",
      "Section Conclusion was added to Category conclusion!\n",
      "-------\n",
      "\n",
      "/home/janelle/Documents/classes/complexNetworks/paper/texfiles/CV/tex/171111575.tex\n",
      "\n",
      "--------\n",
      "Section Conclusions was added to Category conclusion!\n",
      "-------\n",
      "\n",
      "\n",
      "--------\n",
      "Section Introduction was added to Category introduction!\n",
      "-------\n",
      "\n",
      "\n",
      "--------\n",
      "Section Related Works was added to Category related work!\n",
      "-------\n",
      "\n",
      "\n",
      "--------\n",
      "Section Experiments was added to Category discussion!\n",
      "-------\n",
      "\n"
     ]
    },
    {
     "ename": "MemoryError",
     "evalue": "",
     "output_type": "error",
     "traceback": [
      "\u001b[0;31m---------------------------------------------------------------------------\u001b[0m",
      "\u001b[0;31mMemoryError\u001b[0m                               Traceback (most recent call last)",
      "\u001b[0;32m<ipython-input-14-7867f14f02e8>\u001b[0m in \u001b[0;36m<module>\u001b[0;34m()\u001b[0m\n\u001b[1;32m     33\u001b[0m \u001b[0;34m\u001b[0m\u001b[0m\n\u001b[1;32m     34\u001b[0m     \u001b[0;31m# convert from names to cats\u001b[0m\u001b[0;34m\u001b[0m\u001b[0;34m\u001b[0m\u001b[0m\n\u001b[0;32m---> 35\u001b[0;31m     \u001b[0mcats\u001b[0m \u001b[0;34m=\u001b[0m \u001b[0mconvertNamesToCats\u001b[0m\u001b[0;34m(\u001b[0m\u001b[0mnames\u001b[0m\u001b[0;34m,\u001b[0m \u001b[0mcats\u001b[0m\u001b[0;34m)\u001b[0m\u001b[0;34m\u001b[0m\u001b[0m\n\u001b[0m\u001b[1;32m     36\u001b[0m \u001b[0;34m\u001b[0m\u001b[0m\n\u001b[1;32m     37\u001b[0m     \u001b[0;31m# print cats\u001b[0m\u001b[0;34m\u001b[0m\u001b[0;34m\u001b[0m\u001b[0m\n",
      "\u001b[0;32m<ipython-input-10-eab1953dce61>\u001b[0m in \u001b[0;36mconvertNamesToCats\u001b[0;34m(names, cats)\u001b[0m\n\u001b[1;32m     57\u001b[0m                 \u001b[0;31m# if not in ignore list, then add to methodology\u001b[0m\u001b[0;34m\u001b[0m\u001b[0;34m\u001b[0m\u001b[0m\n\u001b[1;32m     58\u001b[0m                 \u001b[0;32mif\u001b[0m \u001b[0mignore\u001b[0m \u001b[0;34m==\u001b[0m \u001b[0;36m0\u001b[0m\u001b[0;34m:\u001b[0m\u001b[0;34m\u001b[0m\u001b[0m\n\u001b[0;32m---> 59\u001b[0;31m                     \u001b[0mcats\u001b[0m\u001b[0;34m[\u001b[0m\u001b[0;34m'methodology'\u001b[0m\u001b[0;34m]\u001b[0m \u001b[0;34m=\u001b[0m \u001b[0mcats\u001b[0m\u001b[0;34m[\u001b[0m\u001b[0;34m'methodology'\u001b[0m\u001b[0;34m]\u001b[0m\u001b[0;34m.\u001b[0m\u001b[0mjoin\u001b[0m\u001b[0;34m(\u001b[0m\u001b[0mnames\u001b[0m\u001b[0;34m[\u001b[0m\u001b[0mname\u001b[0m\u001b[0;34m]\u001b[0m\u001b[0;34m)\u001b[0m\u001b[0;34m\u001b[0m\u001b[0m\n\u001b[0m\u001b[1;32m     60\u001b[0m \u001b[0;31m#                     print name\u001b[0m\u001b[0;34m\u001b[0m\u001b[0;34m\u001b[0m\u001b[0m\n\u001b[1;32m     61\u001b[0m \u001b[0;34m\u001b[0m\u001b[0m\n",
      "\u001b[0;31mMemoryError\u001b[0m: "
     ]
    }
   ],
   "source": [
    "# Test script:\n",
    "import os\n",
    "\n",
    "# define stuffs\n",
    "base_path = \"/home/janelle/Documents/classes/complexNetworks/paper/texfiles\"\n",
    "files = []\n",
    "\n",
    "# test getting all files to parse\n",
    "files = getFiles(base_path, files)\n",
    "# print files\n",
    "\n",
    "# loop through all the files and parse out the stuff!\n",
    "categories = {}\n",
    "\n",
    "for tfile in files:\n",
    "\n",
    "    # ----------------\n",
    "    # run stuff on one file:\n",
    "    print tfile\n",
    "    \n",
    "    # get content\n",
    "    content = getContent(tfile)\n",
    "\n",
    "    # get sections\n",
    "    names = getSections(content)\n",
    "\n",
    "    # fill names dict with content from sections + abstract + title\n",
    "    names = fillNamesDict(names, content)\n",
    "\n",
    "    # print names with their content\n",
    "    # printNamesDict(names)\n",
    "\n",
    "    # define the categories dict\n",
    "    cats = {'title':'','abstract':'','introduction':'','related work':'','methodology':'','discussion':'','conclusion':''}\n",
    "    \n",
    "    # convert from names to cats\n",
    "    cats = convertNamesToCats(names, cats)\n",
    "\n",
    "    # print cats\n",
    "    # printCats(cats)\n",
    "\n",
    "#     TODO: SAVE OFF CATS OR SOMETHING SO ITS NOT REWRITTEN EVERTTIME?!?!\n",
    "    categories[tfile] = cats\n",
    "    "
   ]
  }
 ],
 "metadata": {
  "kernelspec": {
   "display_name": "Python 2",
   "language": "python",
   "name": "python2"
  },
  "language_info": {
   "codemirror_mode": {
    "name": "ipython",
    "version": 2
   },
   "file_extension": ".py",
   "mimetype": "text/x-python",
   "name": "python",
   "nbconvert_exporter": "python",
   "pygments_lexer": "ipython2",
   "version": "2.7.12"
  }
 },
 "nbformat": 4,
 "nbformat_minor": 2
}
